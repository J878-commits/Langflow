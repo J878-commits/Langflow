{
  "nbformat": 4,
  "nbformat_minor": 0,
  "metadata": {
    "colab": {
      "provenance": [],
      "authorship_tag": "ABX9TyMd8c50UwqSLiNkt9C8Dy2e",
      "include_colab_link": true
    },
    "kernelspec": {
      "name": "python3",
      "display_name": "Python 3"
    },
    "language_info": {
      "name": "python"
    }
  },
  "cells": [
    {
      "cell_type": "markdown",
      "metadata": {
        "id": "view-in-github",
        "colab_type": "text"
      },
      "source": [
        "<a href=\"https://colab.research.google.com/github/J878-commits/Langflow/blob/main/%F0%9F%8E%AC_HomeGuard_Navigator_A_Modular_Agentic_AI_for_Housing_Justice.ipynb\" target=\"_parent\"><img src=\"https://colab.research.google.com/assets/colab-badge.svg\" alt=\"Open In Colab\"/></a>"
      ]
    },
    {
      "cell_type": "markdown",
      "source": [
        "🧮 Colab Module: Rent Dispute Agent (Local Simulation)"
      ],
      "metadata": {
        "id": "_9INLi3WXjz8"
      }
    },
    {
      "cell_type": "markdown",
      "source": [
        "# ✅ Step 1: Scenario Parsing"
      ],
      "metadata": {
        "id": "B2hSoeyvXnlI"
      }
    },
    {
      "cell_type": "markdown",
      "source": [],
      "metadata": {
        "id": "Y9bd3VWuXayn"
      }
    },
    {
      "cell_type": "code",
      "execution_count": 1,
      "metadata": {
        "colab": {
          "base_uri": "https://localhost:8080/"
        },
        "id": "xLMfM19IXWzM",
        "outputId": "11bef705-c3c1-45d9-a17c-85f2746fee18"
      },
      "outputs": [
        {
          "output_type": "stream",
          "name": "stdout",
          "text": [
            "🔍 Scenario: Possible illegal rent hike\n",
            "📄 Document Findings:\n",
            "⚠️ No rent increase notice clause found. May be illegal.\n",
            "✔️ Eviction procedure is defined.\n",
            "✔️ Landlord maintenance obligations confirmed.\n",
            "\n",
            "📢 Response (English): It appears your rent was increased without proper notice. You may file a complaint with the housing board.\n",
            "📢 Response (Malayalam): തക്കതായ അറിയിപ്പ് ഇല്ലാതെ വാടക വർദ്ധിപ്പിച്ചതായി തോന്നുന്നു. നിങ്ങൾക്ക് ഹൗസിംഗ് ബോർഡിൽ പരാതി നൽകാം.\n"
          ]
        }
      ],
      "source": [
        "# ✅ Step 1: Scenario Parsing\n",
        "def classify_scenario(user_input):\n",
        "    user_input = user_input.lower()\n",
        "    if \"rent\" in user_input and \"increase\" in user_input:\n",
        "        return \"Possible illegal rent hike\"\n",
        "    elif \"eviction\" in user_input or \"vacate\" in user_input:\n",
        "        return \"Eviction risk\"\n",
        "    elif \"repair\" in user_input or \"maintenance\" in user_input:\n",
        "        return \"Maintenance dispute\"\n",
        "    else:\n",
        "        return \"General housing query\"\n",
        "\n",
        "# ✅ Step 2: Document Scanner Simulation (Mock clause checker)\n",
        "sample_lease = {\n",
        "    \"rent_increase_notice\": False,\n",
        "    \"eviction_clause\": True,\n",
        "    \"maintenance_obligation\": True\n",
        "}\n",
        "\n",
        "def scan_document(lease_dict):\n",
        "    findings = []\n",
        "    if not lease_dict[\"rent_increase_notice\"]:\n",
        "        findings.append(\"⚠️ No rent increase notice clause found. May be illegal.\")\n",
        "    if lease_dict[\"eviction_clause\"]:\n",
        "        findings.append(\"✔️ Eviction procedure is defined.\")\n",
        "    if lease_dict[\"maintenance_obligation\"]:\n",
        "        findings.append(\"✔️ Landlord maintenance obligations confirmed.\")\n",
        "    return findings\n",
        "\n",
        "# ✅ Step 3: Multilingual Response Generator (English + Malayalam)\n",
        "def generate_response(scenario_type):\n",
        "    responses = {\n",
        "        \"Possible illegal rent hike\": {\n",
        "            \"en\": \"It appears your rent was increased without proper notice. You may file a complaint with the housing board.\",\n",
        "            \"ml\": \"തക്കതായ അറിയിപ്പ് ഇല്ലാതെ വാടക വർദ്ധിപ്പിച്ചതായി തോന്നുന്നു. നിങ്ങൾക്ക് ഹൗസിംഗ് ബോർഡിൽ പരാതി നൽകാം.\"\n",
        "        },\n",
        "        \"Eviction risk\": {\n",
        "            \"en\": \"You may be facing eviction. Review your lease and seek legal aid immediately.\",\n",
        "            \"ml\": \"നിങ്ങളെ പുറത്താക്കാൻ സാധ്യതയുണ്ട്. നിങ്ങളുടെ ഉടമ്പടി പരിശോധിച്ച് നിയമ സഹായം തേടുക.\"\n",
        "        },\n",
        "        \"Maintenance dispute\": {\n",
        "            \"en\": \"If repairs are overdue, your landlord may be in breach. Document issues and file a notice.\",\n",
        "            \"ml\": \"മുറിപ്പുകൾ തീരാനിടയില്ലെങ്കിൽ, കയ്യാളിയുടെ തെറ്റ് സാധ്യതയുണ്ട്. പ്രശ്നങ്ങൾ രേഖപ്പെടുത്തി നോട്ടീസ് നൽകുക.\"\n",
        "        },\n",
        "        \"General housing query\": {\n",
        "            \"en\": \"Please provide more details so I can assist you better.\",\n",
        "            \"ml\": \"നമുക്ക് കൂടുതൽ വിവരങ്ങൾ നല്‍കാമോ, ഞാൻ കൂടുതൽ സഹായിക്കാം.\"\n",
        "        }\n",
        "    }\n",
        "    return responses.get(scenario_type, responses[\"General housing query\"])\n",
        "\n",
        "# ✅ Run a Sample Case\n",
        "user_input = \"My landlord increased rent without notice.\"\n",
        "scenario = classify_scenario(user_input)\n",
        "doc_check = scan_document(sample_lease)\n",
        "resp = generate_response(scenario)\n",
        "\n",
        "print(\"🔍 Scenario:\", scenario)\n",
        "print(\"📄 Document Findings:\", *doc_check, sep=\"\\n\")\n",
        "print(\"\\n📢 Response (English):\", resp[\"en\"])\n",
        "print(\"📢 Response (Malayalam):\", resp[\"ml\"])\n"
      ]
    },
    {
      "cell_type": "markdown",
      "source": [
        "🛠️ Phase 2: Action Suggestion + Draft Letter Generator (Multilingual)"
      ],
      "metadata": {
        "id": "Xr66Vz6UYEB7"
      }
    },
    {
      "cell_type": "code",
      "source": [
        "# ✅ Step 4: Recommended Action Flow\n",
        "def suggest_actions(scenario):\n",
        "    actions = {\n",
        "        \"Possible illegal rent hike\": [\n",
        "            \"1️⃣ Gather previous rent receipts.\",\n",
        "            \"2️⃣ Compare with current demand notice.\",\n",
        "            \"3️⃣ Draft a formal complaint to housing authority.\",\n",
        "            \"4️⃣ Seek local legal aid or tenant union support.\"\n",
        "        ],\n",
        "        \"Eviction risk\": [\n",
        "            \"1️⃣ Review lease and eviction clause.\",\n",
        "            \"2️⃣ Ask for written explanation from landlord.\",\n",
        "            \"3️⃣ File an injunction if notice is unlawful.\"\n",
        "        ],\n",
        "        \"Maintenance dispute\": [\n",
        "            \"1️⃣ Document issues with timestamped photos.\",\n",
        "            \"2️⃣ Send formal notice to landlord.\",\n",
        "            \"3️⃣ Escalate to municipal housing board if unresolved.\"\n",
        "        ],\n",
        "        \"General housing query\": [\n",
        "            \"Please share additional details to guide you better.\"\n",
        "        ]\n",
        "    }\n",
        "    return actions.get(scenario, actions[\"General housing query\"])\n",
        "\n",
        "# ✅ Step 5: Legal Draft Generator (English + Malayalam)\n",
        "def generate_complaint_letter(scenario, language=\"en\"):\n",
        "    templates = {\n",
        "        \"en\": f\"\"\"To whom it may concern,\n",
        "\n",
        "I am writing to formally raise a concern regarding my housing situation. My landlord has increased the rent without notice, which I believe violates rental agreement norms. I request that the relevant authorities look into this matter and take appropriate action.\n",
        "\n",
        "Sincerely,\n",
        "[Your Name]\"\"\",\n",
        "        \"ml\": f\"\"\"ആദരം തോന്നുന്നവർക്കു വേണ്ടി,\n",
        "\n",
        "എന്റെ വാടക സ്ഥിതിയിൽ ഒരു പ്രശ്നം ഉണ്ട്. എന്റ്റെ കയ്യാളി അറിയിപ്പ് ഇല്ലാതെ വാടക വർദ്ധിപ്പിച്ചിരിക്കുന്നു. ഈ നടപടി വാടക ഉടമ്പടിക്കെതിരെ ആണ്. അതിനാൽ തക്ക നടപടികൾ സ്വീകരിക്കണമെന്ന് വിനയപൂർവ്വം അപേക്ഷിക്കുന്നു.\n",
        "\n",
        "മാന്യമായി,\n",
        "[നിങ്ങളുടെ പേര്]\"\"\"\n",
        "    }\n",
        "    return templates.get(language, templates[\"en\"])\n",
        "\n",
        "# ✅ Execute All Together\n",
        "action_steps = suggest_actions(scenario)\n",
        "complaint_letter_en = generate_complaint_letter(scenario, \"en\")\n",
        "complaint_letter_ml = generate_complaint_letter(scenario, \"ml\")\n",
        "\n",
        "print(\"🪜 Recommended Next Steps:\")\n",
        "for step in action_steps:\n",
        "    print(step)\n",
        "\n",
        "print(\"\\n📝 Complaint Letter (English):\\n\", complaint_letter_en)\n",
        "print(\"\\n📝 Complaint Letter (Malayalam):\\n\", complaint_letter_ml)\n"
      ],
      "metadata": {
        "colab": {
          "base_uri": "https://localhost:8080/"
        },
        "id": "to_5I18FYEyg",
        "outputId": "026cabab-0537-4a24-ffc4-ce12016e7210"
      },
      "execution_count": 2,
      "outputs": [
        {
          "output_type": "stream",
          "name": "stdout",
          "text": [
            "🪜 Recommended Next Steps:\n",
            "1️⃣ Gather previous rent receipts.\n",
            "2️⃣ Compare with current demand notice.\n",
            "3️⃣ Draft a formal complaint to housing authority.\n",
            "4️⃣ Seek local legal aid or tenant union support.\n",
            "\n",
            "📝 Complaint Letter (English):\n",
            " To whom it may concern,\n",
            "\n",
            "I am writing to formally raise a concern regarding my housing situation. My landlord has increased the rent without notice, which I believe violates rental agreement norms. I request that the relevant authorities look into this matter and take appropriate action.\n",
            "\n",
            "Sincerely,\n",
            "[Your Name]\n",
            "\n",
            "📝 Complaint Letter (Malayalam):\n",
            " ആദരം തോന്നുന്നവർക്കു വേണ്ടി,\n",
            "\n",
            "എന്റെ വാടക സ്ഥിതിയിൽ ഒരു പ്രശ്നം ഉണ്ട്. എന്റ്റെ കയ്യാളി അറിയിപ്പ് ഇല്ലാതെ വാടക വർദ്ധിപ്പിച്ചിരിക്കുന്നു. ഈ നടപടി വാടക ഉടമ്പടിക്കെതിരെ ആണ്. അതിനാൽ തക്ക നടപടികൾ സ്വീകരിക്കണമെന്ന് വിനയപൂർവ്വം അപേക്ഷിക്കുന്നു.\n",
            "\n",
            "മാന്യമായി,\n",
            "[നിങ്ങളുടെ പേര്]\n"
          ]
        }
      ]
    },
    {
      "cell_type": "markdown",
      "source": [
        "🛠️ Phase 4: Optimize + Expand"
      ],
      "metadata": {
        "id": "uCSba64fYoAh"
      }
    },
    {
      "cell_type": "markdown",
      "source": [
        "⚙️ 1. Gradio UI with User Inputs\n",
        "Auto-fill complaint letters based on name, date, location:"
      ],
      "metadata": {
        "id": "qqtKnqpmYv29"
      }
    },
    {
      "cell_type": "code",
      "source": [
        "def generate_letter(name, date, location, scenario, language):\n",
        "    # Insert dynamic values into templates\n",
        "    en_template = f\"\"\"To whom it may concern,\\n\\nI am {name}, residing in {location}. On {date}, my landlord increased the rent without prior notice. I believe this action violates rental agreement norms. I request the authorities to review this issue.\\n\\nSincerely,\\n{name}\"\"\"\n",
        "    ml_template = f\"\"\"ആദരം തോന്നുന്നവർക്കു വേണ്ടി,\\n\\nഞാൻ {location}-ലുള്ള {name} ആണ്. {date}-ന്, എന്റെ കയ്യാളി അറിയിപ്പ് ഇല്ലാതെ വാടക വർദ്ധിപ്പിച്ചു. ഇതൊരു നിയമവിരുദ്ധമായ പ്രവർത്തനമാണ്. അതിനാൽ തക്ക നടപടി സ്വീകരിക്കണമെന്ന് അപേക്ഷിക്കുന്നു.\\n\\nമാന്യമായി,\\n{name}\"\"\"\n",
        "    return en_template if language == \"English\" else ml_template\n"
      ],
      "metadata": {
        "id": "0638o5YhYpHF"
      },
      "execution_count": 3,
      "outputs": []
    },
    {
      "cell_type": "code",
      "source": [
        "gr.File(label=\"Upload Rent Notice or Lease Document\")\n"
      ],
      "metadata": {
        "colab": {
          "base_uri": "https://localhost:8080/",
          "height": 141
        },
        "id": "c35X_qo6Y1rX",
        "outputId": "ac9676a5-d45d-44e2-c18a-abf0f8e4d087"
      },
      "execution_count": 4,
      "outputs": [
        {
          "output_type": "error",
          "ename": "NameError",
          "evalue": "name 'gr' is not defined",
          "traceback": [
            "\u001b[0;31m---------------------------------------------------------------------------\u001b[0m",
            "\u001b[0;31mNameError\u001b[0m                                 Traceback (most recent call last)",
            "\u001b[0;32m/tmp/ipython-input-4209870092.py\u001b[0m in \u001b[0;36m<cell line: 0>\u001b[0;34m()\u001b[0m\n\u001b[0;32m----> 1\u001b[0;31m \u001b[0mgr\u001b[0m\u001b[0;34m.\u001b[0m\u001b[0mFile\u001b[0m\u001b[0;34m(\u001b[0m\u001b[0mlabel\u001b[0m\u001b[0;34m=\u001b[0m\u001b[0;34m\"Upload Rent Notice or Lease Document\"\u001b[0m\u001b[0;34m)\u001b[0m\u001b[0;34m\u001b[0m\u001b[0;34m\u001b[0m\u001b[0m\n\u001b[0m",
            "\u001b[0;31mNameError\u001b[0m: name 'gr' is not defined"
          ]
        }
      ]
    },
    {
      "cell_type": "code",
      "source": [
        "import gradio as gr\n"
      ],
      "metadata": {
        "id": "-i8BJzfTZACz"
      },
      "execution_count": 5,
      "outputs": []
    },
    {
      "cell_type": "code",
      "source": [
        "import gradio as gr\n",
        "\n",
        "def dummy_function(file):\n",
        "    return f\"Uploaded file: {file.name}\"\n",
        "\n",
        "gr.Interface(\n",
        "    fn=dummy_function,\n",
        "    inputs=gr.File(label=\"Upload Rent Notice or Lease Document\"),\n",
        "    outputs=\"text\"\n",
        ").launch()\n"
      ],
      "metadata": {
        "colab": {
          "base_uri": "https://localhost:8080/",
          "height": 646
        },
        "id": "pJocVKcRZF9k",
        "outputId": "31fa75ee-cc64-4e27-d7ec-760e3ed4c7de"
      },
      "execution_count": 6,
      "outputs": [
        {
          "output_type": "stream",
          "name": "stdout",
          "text": [
            "It looks like you are running Gradio on a hosted Jupyter notebook, which requires `share=True`. Automatically setting `share=True` (you can turn this off by setting `share=False` in `launch()` explicitly).\n",
            "\n",
            "Colab notebook detected. To show errors in colab notebook, set debug=True in launch()\n",
            "* Running on public URL: https://8c5eecc9a11e29bb13.gradio.live\n",
            "\n",
            "This share link expires in 1 week. For free permanent hosting and GPU upgrades, run `gradio deploy` from the terminal in the working directory to deploy to Hugging Face Spaces (https://huggingface.co/spaces)\n"
          ]
        },
        {
          "output_type": "display_data",
          "data": {
            "text/plain": [
              "<IPython.core.display.HTML object>"
            ],
            "text/html": [
              "<div><iframe src=\"https://8c5eecc9a11e29bb13.gradio.live\" width=\"100%\" height=\"500\" allow=\"autoplay; camera; microphone; clipboard-read; clipboard-write;\" frameborder=\"0\" allowfullscreen></iframe></div>"
            ]
          },
          "metadata": {}
        },
        {
          "output_type": "execute_result",
          "data": {
            "text/plain": []
          },
          "metadata": {},
          "execution_count": 6
        }
      ]
    },
    {
      "cell_type": "markdown",
      "source": [
        "🧭 Phase 4A: All-In-One Interface (Snapshot Structure)"
      ],
      "metadata": {
        "id": "c3p-lOekZYVz"
      }
    },
    {
      "cell_type": "code",
      "source": [
        "import gradio as gr\n",
        "import pandas as pd\n",
        "from datetime import datetime\n",
        "\n",
        "# ✅ Supporting Functions (simplified for brevity)\n",
        "def generate_letter(name, date, location, scenario, language):\n",
        "    if language == \"Malayalam\":\n",
        "        return f\"\"\"ആദരം തോന്നുന്നവർക്കു വേണ്ടി,\\n\\nഞാൻ {location}-ലുള്ള {name} ആണ്. {date}-ന് എന്റെ കയ്യാളി അറിയിപ്പ് ഇല്ലാതെ വാടക വർദ്ധിപ്പിച്ചു. ഇതൊരു നിയമവിരുദ്ധമായ പ്രവർത്തനമാണ്. അതിനാൽ തക്ക നടപടി സ്വീകരിക്കണമെന്ന് അപേക്ഷിക്കുന്നു.\\n\\nമാന്യമായി,\\n{name}\"\"\"\n",
        "    else:\n",
        "        return f\"\"\"To whom it may concern,\\n\\nI am {name}, residing in {location}. On {date}, my landlord increased the rent without prior notice. I request the authorities to look into this.\\n\\nSincerely,\\n{name}\"\"\"\n",
        "\n",
        "def suggest_actions(scenario):\n",
        "    return {\n",
        "        \"Possible illegal rent hike\": [\"Gather rent receipts\", \"Compare notice\", \"Draft complaint\", \"Seek legal aid\"],\n",
        "        \"Eviction risk\": [\"Review lease\", \"Request landlord explanation\", \"File injunction\"],\n",
        "        \"Maintenance dispute\": [\"Document issues\", \"Send notice\", \"Contact housing board\"]\n",
        "    }.get(scenario, [\"Please provide more details.\"])\n",
        "\n",
        "def log_interaction(name, date, location, scenario, persona, language):\n",
        "    log_df = pd.DataFrame([[datetime.now(), name, date, location, scenario, persona, language]],\n",
        "                          columns=[\"Timestamp\", \"Name\", \"Date\", \"Location\", \"Scenario\", \"Persona\", \"Language\"])\n",
        "    log_df.to_csv(\"user_interactions.csv\", mode=\"a\", header=False, index=False)\n",
        "\n",
        "# ✅ Gradio UI\n",
        "def homeguard_agent(name, date, location, scenario, persona, language, file):\n",
        "    letter = generate_letter(name, date, location, scenario, language)\n",
        "    actions = suggest_actions(scenario)\n",
        "    log_interaction(name, date, location, scenario, persona, language)\n",
        "\n",
        "    file_status = f\"Uploaded: {file.name}\" if file else \"No file uploaded\"\n",
        "    action_steps = \"\\n\".join([f\"✅ {step}\" for step in actions])\n",
        "    return f\"\"\"\n",
        "📄 Complaint Letter:\\n{letter}\\n\\n🪜 Steps:\\n{action_steps}\\n\\n📎 Evidence:\\n{file_status}\n",
        "\"\"\"\n",
        "\n",
        "gr.Interface(\n",
        "    fn=homeguard_agent,\n",
        "    inputs=[\n",
        "        gr.Textbox(label=\"Your Name\"),\n",
        "        gr.Textbox(label=\"Today's Date\"),\n",
        "        gr.Textbox(label=\"Location\"),\n",
        "        gr.Radio([\"Possible illegal rent hike\", \"Eviction risk\", \"Maintenance dispute\"], label=\"Issue Type\"),\n",
        "        gr.Radio([\"Student\", \"Migrant Worker\", \"Elderly Tenant\"], label=\"Persona Type\"),\n",
        "        gr.Radio([\"English\", \"Malayalam\"], label=\"Language\"),\n",
        "        gr.File(label=\"Upload Rent Notice or Lease Document\")\n",
        "    ],\n",
        "    outputs=\"text\",\n",
        "    title=\"🛡️ HomeGuard Navigator: Agentic Housing Rights Assistant\"\n",
        ").launch()\n"
      ],
      "metadata": {
        "colab": {
          "base_uri": "https://localhost:8080/",
          "height": 646
        },
        "id": "8PCk5Aq6ZcC3",
        "outputId": "51f9c9dd-226f-4f90-a827-ab988142bb01"
      },
      "execution_count": 7,
      "outputs": [
        {
          "output_type": "stream",
          "name": "stdout",
          "text": [
            "It looks like you are running Gradio on a hosted Jupyter notebook, which requires `share=True`. Automatically setting `share=True` (you can turn this off by setting `share=False` in `launch()` explicitly).\n",
            "\n",
            "Colab notebook detected. To show errors in colab notebook, set debug=True in launch()\n",
            "* Running on public URL: https://9d4128d0b8064bdba3.gradio.live\n",
            "\n",
            "This share link expires in 1 week. For free permanent hosting and GPU upgrades, run `gradio deploy` from the terminal in the working directory to deploy to Hugging Face Spaces (https://huggingface.co/spaces)\n"
          ]
        },
        {
          "output_type": "display_data",
          "data": {
            "text/plain": [
              "<IPython.core.display.HTML object>"
            ],
            "text/html": [
              "<div><iframe src=\"https://9d4128d0b8064bdba3.gradio.live\" width=\"100%\" height=\"500\" allow=\"autoplay; camera; microphone; clipboard-read; clipboard-write;\" frameborder=\"0\" allowfullscreen></iframe></div>"
            ]
          },
          "metadata": {}
        },
        {
          "output_type": "execute_result",
          "data": {
            "text/plain": []
          },
          "metadata": {},
          "execution_count": 7
        }
      ]
    },
    {
      "cell_type": "markdown",
      "source": [
        "📚 Phase 4B: Legal Insight Engine (Snapshot)"
      ],
      "metadata": {
        "id": "yRsdh-7DZrqf"
      }
    },
    {
      "cell_type": "code",
      "source": [
        "import pandas as pd\n",
        "\n",
        "# ✅ Sample Precedents Dictionary\n",
        "precedent_db = {\n",
        "    \"Kerala\": {\n",
        "        \"Illegal Rent Hike\": \"Kerala Rent Control Act, Section 5 – Rent increase requires notice and consent.\",\n",
        "        \"Eviction Risk\": \"Kerala Buildings (Lease and Rent Control) Act – Protections for non-defaulting tenants.\",\n",
        "        \"Maintenance Dispute\": \"Consumer Protection Judgments – Maintenance negligence cases upheld tenant rights.\"\n",
        "    },\n",
        "    \"Tamil Nadu\": {\n",
        "        \"Illegal Rent Hike\": \"TN Rent Control Act, Sec 4 – Unlawful increase void if notice not given.\",\n",
        "        \"Eviction Risk\": \"Madras High Court Ruling 2020 – Eviction ruled invalid without proper hearing.\"\n",
        "    }\n",
        "}\n",
        "\n",
        "def fetch_precedent(location, scenario):\n",
        "    return precedent_db.get(location, {}).get(scenario, \"No precedent found. Please consult legal aid.\")\n",
        "\n",
        "def generate_case_report(name, location, scenario):\n",
        "    precedent = fetch_precedent(location, scenario)\n",
        "    report_df = pd.DataFrame([[name, location, scenario, precedent]],\n",
        "                             columns=[\"Name\", \"Location\", \"Issue\", \"Legal Insight\"])\n",
        "    report_df.to_csv(\"case_snapshot.csv\", index=False)\n",
        "    return f\"Legal Insight:\\n📜 {precedent}\"\n",
        "\n",
        "# 🔌 Add this inside your Gradio app after scenario is selected\n"
      ],
      "metadata": {
        "id": "88nR5VbkZsbB"
      },
      "execution_count": 8,
      "outputs": []
    },
    {
      "cell_type": "markdown",
      "source": [
        "📢 Phase 5: Campaign-Ready Outputs"
      ],
      "metadata": {
        "id": "L-e1GzRbZ5m-"
      }
    },
    {
      "cell_type": "code",
      "source": [
        "def create_story(name, location, scenario):\n",
        "    story = f\"In {location}, {name} faced '{scenario}'. With HomeGuard Navigator, they filed a complaint, understood local law, and took action.\"\n",
        "    return story\n"
      ],
      "metadata": {
        "id": "CVS-1TeaZ6TN"
      },
      "execution_count": 9,
      "outputs": []
    },
    {
      "cell_type": "code",
      "source": [
        "import matplotlib.pyplot as plt\n",
        "\n",
        "def show_case_distribution():\n",
        "    df = pd.read_csv(\"user_interactions.csv\", header=None,\n",
        "                     names=[\"Timestamp\", \"Name\", \"Date\", \"Location\", \"Scenario\", \"Persona\", \"Language\"])\n",
        "    chart_data = df[\"Scenario\"].value_counts()\n",
        "    plt.figure(figsize=(8,4))\n",
        "    chart_data.plot(kind=\"bar\", color=\"teal\")\n",
        "    plt.title(\"Scenario Distribution\")\n",
        "    plt.xlabel(\"Issue\")\n",
        "    plt.ylabel(\"Reported Cases\")\n",
        "    plt.tight_layout()\n",
        "    plt.savefig(\"scenario_chart.png\")\n",
        "    return \"scenario_chart.png\"\n"
      ],
      "metadata": {
        "id": "NBwnT3lBaAf9"
      },
      "execution_count": 10,
      "outputs": []
    },
    {
      "cell_type": "markdown",
      "source": [
        "🏕️ Phase 6: Modular Co-Creation & Deployment Layer"
      ],
      "metadata": {
        "id": "SHvleOdOaU8J"
      }
    },
    {
      "cell_type": "code",
      "source": [
        "gr.Radio([\"Kiosk\", \"Mobile\", \"Student Mode\"], label=\"Deploy Mode\")\n"
      ],
      "metadata": {
        "colab": {
          "base_uri": "https://localhost:8080/"
        },
        "id": "lCenyNuFaWut",
        "outputId": "e350641e-2c4e-4d7a-e63d-f7a3f21018a2"
      },
      "execution_count": 12,
      "outputs": [
        {
          "output_type": "execute_result",
          "data": {
            "text/plain": [
              "<gradio.components.radio.Radio at 0x7c5d74865c10>"
            ]
          },
          "metadata": {},
          "execution_count": 12
        }
      ]
    },
    {
      "cell_type": "code",
      "source": [
        "def translate_script(message, language):\n",
        "    translations = {\n",
        "        \"Malayalam\": f\"മാറ്റം ആവശ്യമുള്ളത്: {message}\",\n",
        "        \"Hindi\": f\"परिवर्तन की आवश्यकता है: {message}\",\n",
        "        \"Tamil\": f\"மாற்றம் தேவை: {message}\",\n",
        "        \"English\": f\"Change is needed: {message}\"\n",
        "    }\n",
        "    return translations.get(language, message)\n"
      ],
      "metadata": {
        "id": "EQmzAXxyajDb"
      },
      "execution_count": 13,
      "outputs": []
    },
    {
      "cell_type": "code",
      "source": [
        "gr.Interface(\n",
        "    fn=homeguard_agent,\n",
        "    inputs=[\n",
        "        gr.Textbox(label=\"Your Name\"),\n",
        "        gr.Textbox(label=\"Today's Date\"),\n",
        "        gr.Textbox(label=\"Location\"),\n",
        "        gr.Radio([\"Illegal Rent Hike\", \"Eviction Risk\", \"Maintenance Dispute\"], label=\"Issue Type\"),\n",
        "        gr.Radio([\"Student\", \"Migrant Worker\", \"Elderly Tenant\"], label=\"Persona Type\"),\n",
        "        gr.Radio([\"English\", \"Malayalam\"], label=\"Language\"),\n",
        "        gr.File(label=\"Upload Rent Notice or Lease Document\")\n",
        "    ],\n",
        "    outputs=\"text\"\n",
        ").launch()\n",
        "\n",
        "\n"
      ],
      "metadata": {
        "colab": {
          "base_uri": "https://localhost:8080/",
          "height": 646
        },
        "id": "fTx-8DFsaow-",
        "outputId": "953305c1-d795-4964-fdd1-c8728573430d"
      },
      "execution_count": 16,
      "outputs": [
        {
          "output_type": "stream",
          "name": "stdout",
          "text": [
            "It looks like you are running Gradio on a hosted Jupyter notebook, which requires `share=True`. Automatically setting `share=True` (you can turn this off by setting `share=False` in `launch()` explicitly).\n",
            "\n",
            "Colab notebook detected. To show errors in colab notebook, set debug=True in launch()\n",
            "* Running on public URL: https://47671ba4d809c86b03.gradio.live\n",
            "\n",
            "This share link expires in 1 week. For free permanent hosting and GPU upgrades, run `gradio deploy` from the terminal in the working directory to deploy to Hugging Face Spaces (https://huggingface.co/spaces)\n"
          ]
        },
        {
          "output_type": "display_data",
          "data": {
            "text/plain": [
              "<IPython.core.display.HTML object>"
            ],
            "text/html": [
              "<div><iframe src=\"https://47671ba4d809c86b03.gradio.live\" width=\"100%\" height=\"500\" allow=\"autoplay; camera; microphone; clipboard-read; clipboard-write;\" frameborder=\"0\" allowfullscreen></iframe></div>"
            ]
          },
          "metadata": {}
        },
        {
          "output_type": "execute_result",
          "data": {
            "text/plain": []
          },
          "metadata": {},
          "execution_count": 16
        }
      ]
    }
  ]
}