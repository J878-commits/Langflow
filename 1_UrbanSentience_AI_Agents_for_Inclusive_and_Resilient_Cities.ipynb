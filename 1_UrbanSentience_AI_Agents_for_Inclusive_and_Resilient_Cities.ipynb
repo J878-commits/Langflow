{
  "nbformat": 4,
  "nbformat_minor": 0,
  "metadata": {
    "colab": {
      "provenance": [],
      "authorship_tag": "ABX9TyOqY4hXzY3/z/VhhiVKLit5",
      "include_colab_link": true
    },
    "kernelspec": {
      "name": "python3",
      "display_name": "Python 3"
    },
    "language_info": {
      "name": "python"
    }
  },
  "cells": [
    {
      "cell_type": "markdown",
      "metadata": {
        "id": "view-in-github",
        "colab_type": "text"
      },
      "source": [
        "<a href=\"https://colab.research.google.com/github/J878-commits/Langflow/blob/main/1_UrbanSentience_AI_Agents_for_Inclusive_and_Resilient_Cities.ipynb\" target=\"_parent\"><img src=\"https://colab.research.google.com/assets/colab-badge.svg\" alt=\"Open In Colab\"/></a>"
      ]
    },
    {
      "cell_type": "markdown",
      "source": [
        "🧪 Colab Architecture: UrbanSentience Demo"
      ],
      "metadata": {
        "id": "cJ7jQnvkcRF-"
      }
    },
    {
      "cell_type": "code",
      "execution_count": 1,
      "metadata": {
        "id": "GvUDgyRZcQEZ"
      },
      "outputs": [],
      "source": [
        "# Install required packages\n",
        "!pip install gradio pandas geopandas folium transformers matplotlib --quiet\n"
      ]
    },
    {
      "cell_type": "markdown",
      "source": [
        "🧠 Step 2: Agent Selector + UI Controls"
      ],
      "metadata": {
        "id": "SwtiSPD3cgZd"
      }
    },
    {
      "cell_type": "code",
      "source": [
        "import gradio as gr\n",
        "\n",
        "# Language and persona toggles\n",
        "language_options = [\"English\", \"Malayalam\", \"Hindi\", \"Arabic\"]\n",
        "persona_options = [\"Urban Resident\", \"Planner\", \"NGO Advocate\"]\n",
        "\n",
        "def agent_ui(agent_name, language, persona):\n",
        "    return f\"Running {agent_name} module for {persona} in {language}\"\n",
        "\n",
        "demo = gr.Interface(\n",
        "    fn=agent_ui,\n",
        "    inputs=[\n",
        "        gr.Dropdown([\"AirSentinel\", \"HousingRights Navigator\", \"UrbanPlanning Co-Pilot\",\n",
        "                     \"InfraWatchdog\", \"GreenSpace Optimizer\", \"CivicPulse Dashboard\", \"Dignified Housing Platform\"],\n",
        "                    label=\"Select Agent\"),\n",
        "        gr.Dropdown(language_options, label=\"Select Language\"),\n",
        "        gr.Radio(persona_options, label=\"Select Persona\"),\n",
        "    ],\n",
        "    outputs=\"text\",\n",
        "    title=\"🌍 UrbanSentience SDG 11 Agentic AI\",\n",
        "    description=\"Choose agent, language, and user persona to simulate sustainable urban flows\"\n",
        ")\n",
        "\n",
        "demo.launch()\n"
      ],
      "metadata": {
        "colab": {
          "base_uri": "https://localhost:8080/",
          "height": 646
        },
        "id": "H6IY177achRE",
        "outputId": "cf5e205f-9b2f-44c9-bb94-eb18b585e505"
      },
      "execution_count": 2,
      "outputs": [
        {
          "output_type": "stream",
          "name": "stdout",
          "text": [
            "It looks like you are running Gradio on a hosted Jupyter notebook, which requires `share=True`. Automatically setting `share=True` (you can turn this off by setting `share=False` in `launch()` explicitly).\n",
            "\n",
            "Colab notebook detected. To show errors in colab notebook, set debug=True in launch()\n",
            "* Running on public URL: https://d301cbc3fca8110ea1.gradio.live\n",
            "\n",
            "This share link expires in 1 week. For free permanent hosting and GPU upgrades, run `gradio deploy` from the terminal in the working directory to deploy to Hugging Face Spaces (https://huggingface.co/spaces)\n"
          ]
        },
        {
          "output_type": "display_data",
          "data": {
            "text/plain": [
              "<IPython.core.display.HTML object>"
            ],
            "text/html": [
              "<div><iframe src=\"https://d301cbc3fca8110ea1.gradio.live\" width=\"100%\" height=\"500\" allow=\"autoplay; camera; microphone; clipboard-read; clipboard-write;\" frameborder=\"0\" allowfullscreen></iframe></div>"
            ]
          },
          "metadata": {}
        },
        {
          "output_type": "execute_result",
          "data": {
            "text/plain": []
          },
          "metadata": {},
          "execution_count": 2
        }
      ]
    }
  ]
}