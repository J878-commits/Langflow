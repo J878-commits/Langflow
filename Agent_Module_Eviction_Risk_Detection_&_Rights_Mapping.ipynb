{
  "nbformat": 4,
  "nbformat_minor": 0,
  "metadata": {
    "colab": {
      "provenance": [],
      "authorship_tag": "ABX9TyM3ixergIBqmmbTMIiT2u0f",
      "include_colab_link": true
    },
    "kernelspec": {
      "name": "python3",
      "display_name": "Python 3"
    },
    "language_info": {
      "name": "python"
    }
  },
  "cells": [
    {
      "cell_type": "markdown",
      "metadata": {
        "id": "view-in-github",
        "colab_type": "text"
      },
      "source": [
        "<a href=\"https://colab.research.google.com/github/J878-commits/Langflow/blob/main/Agent_Module_Eviction_Risk_Detection_%26_Rights_Mapping.ipynb\" target=\"_parent\"><img src=\"https://colab.research.google.com/assets/colab-badge.svg\" alt=\"Open In Colab\"/></a>"
      ]
    },
    {
      "cell_type": "markdown",
      "source": [
        "💻 Minimal Colab Demo – Agent Module: Eviction Risk Detection & Rights Mapping"
      ],
      "metadata": {
        "id": "GdQV05s6x0MV"
      }
    },
    {
      "cell_type": "markdown",
      "source": [
        "📌 Step 1: Install & Import Libraries"
      ],
      "metadata": {
        "id": "eM17VLlNx5eT"
      }
    },
    {
      "cell_type": "code",
      "execution_count": 1,
      "metadata": {
        "colab": {
          "base_uri": "https://localhost:8080/"
        },
        "id": "gFof8HtdxxNs",
        "outputId": "9a298074-e4f6-42a7-bb76-9169213d80f2"
      },
      "outputs": [
        {
          "output_type": "stream",
          "name": "stdout",
          "text": [
            "Requirement already satisfied: pandas in /usr/local/lib/python3.11/dist-packages (2.2.2)\n",
            "Requirement already satisfied: matplotlib in /usr/local/lib/python3.11/dist-packages (3.10.0)\n",
            "Collecting langdetect\n",
            "  Downloading langdetect-1.0.9.tar.gz (981 kB)\n",
            "\u001b[2K     \u001b[90m━━━━━━━━━━━━━━━━━━━━━━━━━━━━━━━━━━━━━━\u001b[0m \u001b[32m981.5/981.5 kB\u001b[0m \u001b[31m15.0 MB/s\u001b[0m eta \u001b[36m0:00:00\u001b[0m\n",
            "\u001b[?25h  Preparing metadata (setup.py) ... \u001b[?25l\u001b[?25hdone\n",
            "Requirement already satisfied: numpy>=1.23.2 in /usr/local/lib/python3.11/dist-packages (from pandas) (2.0.2)\n",
            "Requirement already satisfied: python-dateutil>=2.8.2 in /usr/local/lib/python3.11/dist-packages (from pandas) (2.9.0.post0)\n",
            "Requirement already satisfied: pytz>=2020.1 in /usr/local/lib/python3.11/dist-packages (from pandas) (2025.2)\n",
            "Requirement already satisfied: tzdata>=2022.7 in /usr/local/lib/python3.11/dist-packages (from pandas) (2025.2)\n",
            "Requirement already satisfied: contourpy>=1.0.1 in /usr/local/lib/python3.11/dist-packages (from matplotlib) (1.3.2)\n",
            "Requirement already satisfied: cycler>=0.10 in /usr/local/lib/python3.11/dist-packages (from matplotlib) (0.12.1)\n",
            "Requirement already satisfied: fonttools>=4.22.0 in /usr/local/lib/python3.11/dist-packages (from matplotlib) (4.59.0)\n",
            "Requirement already satisfied: kiwisolver>=1.3.1 in /usr/local/lib/python3.11/dist-packages (from matplotlib) (1.4.8)\n",
            "Requirement already satisfied: packaging>=20.0 in /usr/local/lib/python3.11/dist-packages (from matplotlib) (25.0)\n",
            "Requirement already satisfied: pillow>=8 in /usr/local/lib/python3.11/dist-packages (from matplotlib) (11.3.0)\n",
            "Requirement already satisfied: pyparsing>=2.3.1 in /usr/local/lib/python3.11/dist-packages (from matplotlib) (3.2.3)\n",
            "Requirement already satisfied: six in /usr/local/lib/python3.11/dist-packages (from langdetect) (1.17.0)\n",
            "Building wheels for collected packages: langdetect\n",
            "  Building wheel for langdetect (setup.py) ... \u001b[?25l\u001b[?25hdone\n",
            "  Created wheel for langdetect: filename=langdetect-1.0.9-py3-none-any.whl size=993223 sha256=89e0980c441d9b9d44f6c0441a6e96f3f3b5c6f36dbe2faaef90699e48c5ec32\n",
            "  Stored in directory: /root/.cache/pip/wheels/0a/f2/b2/e5ca405801e05eb7c8ed5b3b4bcf1fcabcd6272c167640072e\n",
            "Successfully built langdetect\n",
            "Installing collected packages: langdetect\n",
            "Successfully installed langdetect-1.0.9\n"
          ]
        }
      ],
      "source": [
        "# Install for NLP and dashboard support\n",
        "!pip install pandas matplotlib langdetect\n",
        "\n",
        "# Import essentials\n",
        "import pandas as pd\n",
        "import matplotlib.pyplot as plt\n",
        "from langdetect import detect\n"
      ]
    },
    {
      "cell_type": "markdown",
      "source": [
        "📌 Step 2: Simulate User Input & Language Detection"
      ],
      "metadata": {
        "id": "iG_nm6jCyKLI"
      }
    },
    {
      "cell_type": "code",
      "source": [
        "# Example user input (Malayalam): \"എൻറെ വീട്ടുവാടക അടുത്തിടെ ഇരട്ടിയായി. ഞാൻ ഇത് സഹിക്കാൻ കഴിയില്ല.\"\n",
        "user_input = \"എൻറെ വീട്ടുവാടക അടുത്തിടെ ഇരട്ടിയായി. ഞാൻ ഇത് സഹിക്കാൻ കഴിയില്ല.\"\n",
        "\n",
        "# Detect language\n",
        "language = detect(user_input)\n",
        "print(f\"Detected Language: {language}\")\n"
      ],
      "metadata": {
        "colab": {
          "base_uri": "https://localhost:8080/"
        },
        "id": "L6MNPXejyL-8",
        "outputId": "c6fbcf3a-9412-4e61-fd68-b20a1524dc33"
      },
      "execution_count": 2,
      "outputs": [
        {
          "output_type": "stream",
          "name": "stdout",
          "text": [
            "Detected Language: ml\n"
          ]
        }
      ]
    },
    {
      "cell_type": "markdown",
      "source": [
        "📌 Step 3: Rent History Simulation & Risk Scoring"
      ],
      "metadata": {
        "id": "R7Lwh_7pyUzc"
      }
    },
    {
      "cell_type": "code",
      "source": [
        "# Simulated rent data over last 6 months\n",
        "rent_data = pd.Series([7500, 7500, 8000, 8500, 12000, 12000],\n",
        "                      index=pd.date_range(\"2025-02-01\", periods=6, freq='M'))\n",
        "\n",
        "# Risk detection: sudden hike logic\n",
        "def eviction_risk_score(rent_series):\n",
        "    change = rent_series.diff().fillna(0)\n",
        "    spike = change[-1] > (0.3 * rent_series[-2])\n",
        "    score = \"High\" if spike else \"Moderate\"\n",
        "    return score\n",
        "\n",
        "risk = eviction_risk_score(rent_data)\n",
        "print(f\"Eviction Risk Level: {risk}\")\n"
      ],
      "metadata": {
        "colab": {
          "base_uri": "https://localhost:8080/"
        },
        "id": "0XoL_6fOyVwu",
        "outputId": "c41ce23b-8caa-477e-cba2-9c6eb4950afa"
      },
      "execution_count": 3,
      "outputs": [
        {
          "output_type": "stream",
          "name": "stdout",
          "text": [
            "Eviction Risk Level: Moderate\n"
          ]
        },
        {
          "output_type": "stream",
          "name": "stderr",
          "text": [
            "/tmp/ipython-input-4260376309.py:3: FutureWarning: 'M' is deprecated and will be removed in a future version, please use 'ME' instead.\n",
            "  index=pd.date_range(\"2025-02-01\", periods=6, freq='M'))\n",
            "/tmp/ipython-input-4260376309.py:8: FutureWarning: Series.__getitem__ treating keys as positions is deprecated. In a future version, integer keys will always be treated as labels (consistent with DataFrame behavior). To access a value by position, use `ser.iloc[pos]`\n",
            "  spike = change[-1] > (0.3 * rent_series[-2])\n"
          ]
        }
      ]
    },
    {
      "cell_type": "markdown",
      "source": [
        "📌 Step 4: Visualization + Rights Summary"
      ],
      "metadata": {
        "id": "bgFkvyiqyd1q"
      }
    },
    {
      "cell_type": "code",
      "source": [
        "# Rent trend chart\n",
        "rent_data.plot(marker='o', title='Rent Over Time')\n",
        "plt.ylabel('Rent in ₹')\n",
        "plt.show()\n",
        "\n",
        "# Rights summary\n",
        "rights_dict = {\n",
        "    \"Malayalam\": \"കേരളം ഭവനങ്ങളുടെ അപ്രതീക്ഷിത വാടക വർദ്ധനവ് തടയാൻ സംവരണംചെയ്ത നിയമങ്ങൾ ഉണ്ട്.\",\n",
        "    \"English\": \"Kerala has tenancy protection laws against sudden rent hikes and wrongful eviction.\"\n",
        "}\n",
        "print(\"Housing Rights Summary:\", rights_dict.get(language, rights_dict[\"English\"]))\n"
      ],
      "metadata": {
        "colab": {
          "base_uri": "https://localhost:8080/",
          "height": 483
        },
        "id": "MaYlYjEdyepc",
        "outputId": "96cfa649-ea34-410e-9a59-47d332d9e95c"
      },
      "execution_count": 4,
      "outputs": [
        {
          "output_type": "display_data",
          "data": {
            "text/plain": [
              "<Figure size 640x480 with 1 Axes>"
            ],
            "image/png": "[encoded data removed]"
          },
          "metadata": {}
        },
        {
          "output_type": "stream",
          "name": "stdout",
          "text": [
            "Housing Rights Summary: Kerala has tenancy protection laws against sudden rent hikes and wrongful eviction.\n"
          ]
        }
      ]
    }
  ]
}